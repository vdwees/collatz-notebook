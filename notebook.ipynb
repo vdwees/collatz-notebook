{
 "cells": [
  {
   "attachments": {},
   "cell_type": "markdown",
   "metadata": {},
   "source": [
    "I had a bit of free time this holiday season, so of course I spent some of it getting caught up on the Veratasim channel on YouTube. Unfortunately, this resulted in second-degree burns from the most dangerous problem in mathematics: 3x+1, also known as the Collatz conjecture.\n",
    "\n",
    "In the video, there is a segment a few seconds long that shows the binary representation of the sequence of numbers as an image generated in matlab.\n",
    "\n",
    "https://youtu.be/094y1Z2wpJg?t=1056\n",
    "\n",
    "(Watch the whole video if you have not heard of this conjecture before, Derek does a great job explaining it.)\n",
    "\n",
    "Another way of saying the conjecture is that if you multiply a number by three and then add 1 to the least significant digit repeatedly, the number of significant digits will always converge to 1.\n",
    "\n",
    "I'm using this form below, because I think it helps to demonstrate the dynamics of the problem more intuitively. In this arrangement, you can see how information can only flow from right to left."
   ]
  },
  {
   "cell_type": "code",
   "execution_count": 5,
   "metadata": {},
   "outputs": [
    {
     "name": "stdout",
     "output_type": "stream",
     "text": [
      "                                                           1                   1 | 1048577\n",
      "                                                          11                 1   | 786433\n",
      "                                                        1  1               1     | 589825\n",
      "                                                       11 11             1       | 442369\n",
      "                                                     1 1   1           1         | 331777\n",
      "                                                    1111  11         1           | 248833\n",
      "                                                  1 11 11  1       1             | 186625\n",
      "                                                1   1   1 11     1               | 139969\n",
      "                                               11  11 1    1   1                 | 104977\n",
      "                                             1  11  111   11 1                   | 78733\n",
      "                                            111  11 1 1 1 1                      | 29525\n",
      "                                          1 1 11 1                               | 173\n",
      "                                        1     1                                  | 65\n",
      "                                       11   1                                    | 49\n",
      "                                     1  1 1                                      | 37\n",
      "                                    111                                          | 7\n",
      "                                  1 11                                           | 11\n",
      "                                1   1                                            | 17\n",
      "                               11 1                                              | 13\n",
      "                             1 1                                                 | 5\n",
      "                           1                                                     | 1\n",
      "                         1                                                       | 1\n",
      "                       1                                                         | 1\n",
      "                     1                                                           | 1\n",
      "                   1                                                             | 1\n"
     ]
    }
   ],
   "source": [
    "# Let's use python, it has arbitrary precision integers.\n",
    "\n",
    "\n",
    "def power(x):\n",
    "    for i in range(len(f\"{x:b}\")):\n",
    "        if x % (2 ** (i + 1)):\n",
    "            return i\n",
    "\n",
    "\n",
    "def step(x):\n",
    "    return 3 * x + (1 << power(x))\n",
    "\n",
    "\n",
    "def print_line(x, width):\n",
    "    digits = f\"{x:b}\".replace(\"0\", \" \").rjust(width, \" \")\n",
    "    print(f\"{digits} | {x >> power(x)}\")\n",
    "\n",
    "# Quick-and-dirty function to generate some lines of text\n",
    "def print_graph(x, width):\n",
    "    # the conjecture says that this loop will terminate\n",
    "    while len(f\"{x:b}\".strip(\"0\")) > 1:\n",
    "        print_line(x, width)\n",
    "        x = step(x)\n",
    "\n",
    "    # iterate a few more times for good measure\n",
    "    for _ in range(5):\n",
    "        print_line(x, width)\n",
    "        x = step(x)\n",
    "\n",
    "\n",
    "print_graph((1 << 20) + 1, 80)"
   ]
  },
  {
   "attachments": {},
   "cell_type": "markdown",
   "metadata": {},
   "source": [
    "Let's make some observations. \n",
    "\n",
    "- The significance of the seed 1048577 is completely obfuscated in base-10, but in base-2 we see why this was chosen. We want to initially isolate the dynamics of the left and right edges.\n",
    "- The bit on the right edge right initially moves left at 4x, it is already in the equivalent of the 1, 4, 2, 1 loop.\n",
    "- The left edge of the graph is growing at a rate of 3x.\n",
    "- Towards the bottom left of the graph, the edges converge to into the stable and familiar 4x or 1, 4, 2, 1 loop.\n",
    "- On occasion, the right edge fails to move left at 4x. If the two least significant digits on the right are equal to 11 in binary (3 in decimal), then the right edge will move left only at 2x. Otherwise, it will move left at least 4x, and sometimes much more.\n",
    "\n",
    "So, why is this not enough to prove the conjecture? If the left side is mostly growing slower than the right side, won't the edges eventually converge?\n",
    "\n",
    "I'll answer that with a different example."
   ]
  },
  {
   "cell_type": "code",
   "execution_count": 6,
   "metadata": {},
   "outputs": [
    {
     "name": "stdout",
     "output_type": "stream",
     "text": [
      "                                                                                     111111111111111 | 32767\n",
      "                                                                                   1 11111111111111  | 49151\n",
      "                                                                                 1   1111111111111   | 73727\n",
      "                                                                                11 1 111111111111    | 110591\n",
      "                                                                              1 1    11111111111     | 165887\n",
      "                                                                             1111  1 1111111111      | 248831\n",
      "                                                                           1 11 11   111111111       | 373247\n",
      "                                                                         1   1   1 1 11111111        | 559871\n",
      "                                                                        11  11 1     1111111         | 839807\n",
      "                                                                      1  11  111   1 111111          | 1259711\n",
      "                                                                     111  11 1 1 1   11111           | 1889567\n",
      "                                                                   1 1 11  1111111 1 1111            | 2834351\n",
      "                                                                 1      11 111111    111             | 4251527\n",
      "                                                                11    1 1  1111 1  1 11              | 6377291\n",
      "                                                              1  1   11111 11 1111   1               | 9565937\n",
      "                                                             11 11 1 1111  1  11 1 1                 | 7174453\n",
      "                                                           1 1  1    11 1 111 1                      | 672605\n",
      "                                                          1111 11  1 1    11                         | 252227\n",
      "                                                        1 111   1 1111  1 1                          | 378341\n",
      "                                                      1   1 1 1   11 11                              | 70939\n",
      "                                                     11  111111 1 1  1                               | 106409\n",
      "                                                   1  11 1111 111111                                 | 79807\n",
      "                                                  111 1  111  11111                                  | 119711\n",
      "                                                1 1 1111 1 11 1111                                   | 179567\n",
      "                                              1     111    1  111                                    | 269351\n",
      "                                             11   1 1 1   111 11                                     | 404027\n",
      "                                           1  1  111111 1 11  1                                      | 606041\n",
      "                                          11 111 11111     11                                        | 454531\n",
      "                                        1 1  11  111 1   1 1                                         | 681797\n",
      "                                       11111  11 1 111 1                                             | 127837\n",
      "                                     1 111 11 1    11                                                | 47939\n",
      "                                   1   11   111  1 1                                                 | 71909\n",
      "                                  11 1  1 1 1 11                                                     | 13483\n",
      "                                1  1111       1                                                      | 20225\n",
      "                               111 11 1     1                                                        | 15169\n",
      "                             1 11   111   1                                                          | 11377\n",
      "                           1    1 1 1 1 1                                                            | 8533\n",
      "                          11  1                                                                      | 25\n",
      "                        1  11                                                                        | 19\n",
      "                       111 1                                                                         | 29\n",
      "                     1 11                                                                            | 11\n",
      "                   1   1                                                                             | 17\n",
      "                  11 1                                                                               | 13\n",
      "                1 1                                                                                  | 5\n",
      "              1                                                                                      | 1\n",
      "            1                                                                                        | 1\n",
      "          1                                                                                          | 1\n",
      "        1                                                                                            | 1\n",
      "      1                                                                                              | 1\n"
     ]
    }
   ],
   "source": [
    "print_graph((1 << 15) - 1, 100)"
   ]
  },
  {
   "attachments": {},
   "cell_type": "markdown",
   "metadata": {},
   "source": [
    "The number 32767 starts orders of magnitude smaller, but takes more iterations to stabilize. This is mostly because we give it a solid block of 1's as a seed value.\n",
    "\n",
    "Some more observations:\n",
    "- For the first set of iterations, The right side is growing at 3x as always.\n",
    "- The left side cannot grow faster than 2x until it gets past that initial block. The edges diverge (and the equivalent number grows) during this time.\n",
    "- Blocks can form naturally: halfway down from the top, another block appears right on the edge. Once again, the edges diverge.\n",
    "\n",
    "If there were some initial seed that could make the two rightmost bits equal to 11 in binary most of the time, the number might escape the conjecture's gravity and grow on forever.\n",
    "\n",
    "I hope this little experiment helps show why it is so hard to prove the conjecture. The pseudorandom pattern of bits interacting caused by multiplying by three seems to be non-repeating, just like log2(3) is an irrational number.\n",
    "\n",
    "From where I am sitting, it's impossible to say that there is not some seed number that manages to spew out just the right combination of bits over and over to keep itself growing and growing."
   ]
  }
 ],
 "metadata": {
  "kernelspec": {
   "display_name": "venv",
   "language": "python",
   "name": "python3"
  },
  "language_info": {
   "codemirror_mode": {
    "name": "ipython",
    "version": 3
   },
   "file_extension": ".py",
   "mimetype": "text/x-python",
   "name": "python",
   "nbconvert_exporter": "python",
   "pygments_lexer": "ipython3",
   "version": "3.11.1"
  },
  "orig_nbformat": 4,
  "vscode": {
   "interpreter": {
    "hash": "6098fd6c98b2acf90664da52b5ae16b8c6389e006a6a2c1de0ef681a032ffac0"
   }
  }
 },
 "nbformat": 4,
 "nbformat_minor": 2
}
